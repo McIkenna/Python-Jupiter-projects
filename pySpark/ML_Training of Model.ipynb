{
 "cells": [
  {
   "cell_type": "code",
   "execution_count": 1,
   "id": "48bfc092",
   "metadata": {},
   "outputs": [],
   "source": [
    "from pyspark.sql import SparkSession"
   ]
  },
  {
   "cell_type": "code",
   "execution_count": 2,
   "id": "9a049e9c",
   "metadata": {},
   "outputs": [
    {
     "name": "stderr",
     "output_type": "stream",
     "text": [
      "Setting default log level to \"WARN\".\n",
      "To adjust logging level use sc.setLogLevel(newLevel). For SparkR, use setLogLevel(newLevel).\n"
     ]
    },
    {
     "name": "stdout",
     "output_type": "stream",
     "text": [
      "23/04/16 07:47:37 WARN NativeCodeLoader: Unable to load native-hadoop library for your platform... using builtin-java classes where applicable\n"
     ]
    }
   ],
   "source": [
    "spark = SparkSession.builder.appName('Missing').getOrCreate()"
   ]
  },
  {
   "cell_type": "code",
   "execution_count": 3,
   "id": "f80457a6",
   "metadata": {},
   "outputs": [],
   "source": [
    "training_data = spark.read.csv('test1.csv', header=True, inferSchema=True)"
   ]
  },
  {
   "cell_type": "code",
   "execution_count": 4,
   "id": "9f892a97",
   "metadata": {},
   "outputs": [
    {
     "name": "stdout",
     "output_type": "stream",
     "text": [
      "+---------+---+----------+------+\n",
      "|     Name|age|Experience|Salary|\n",
      "+---------+---+----------+------+\n",
      "|    Krish| 31|        10| 30000|\n",
      "|Sudhanshu| 30|         8| 25000|\n",
      "|    Sunny| 29|         4| 20000|\n",
      "|     Paul| 24|         3| 20000|\n",
      "|   Harsha| 21|         1| 15000|\n",
      "|  Shubham| 23|         2| 18000|\n",
      "+---------+---+----------+------+\n",
      "\n"
     ]
    }
   ],
   "source": [
    "training_data.show()"
   ]
  },
  {
   "cell_type": "code",
   "execution_count": 5,
   "id": "b4d2f25c",
   "metadata": {},
   "outputs": [
    {
     "name": "stdout",
     "output_type": "stream",
     "text": [
      "root\n",
      " |-- Name: string (nullable = true)\n",
      " |-- age: integer (nullable = true)\n",
      " |-- Experience: integer (nullable = true)\n",
      " |-- Salary: integer (nullable = true)\n",
      "\n"
     ]
    }
   ],
   "source": [
    "training_data.printSchema()"
   ]
  },
  {
   "cell_type": "code",
   "execution_count": 6,
   "id": "ec2cbf7d",
   "metadata": {},
   "outputs": [
    {
     "data": {
      "text/plain": [
       "['Name', 'age', 'Experience', 'Salary']"
      ]
     },
     "execution_count": 6,
     "metadata": {},
     "output_type": "execute_result"
    }
   ],
   "source": [
    "training_data.columns"
   ]
  },
  {
   "cell_type": "code",
   "execution_count": 10,
   "id": "36c863cd",
   "metadata": {},
   "outputs": [],
   "source": [
    "#Creating a new data to be used for training the model\n",
    "from pyspark.ml.feature import VectorAssembler\n",
    "featureAssembler = VectorAssembler(inputCols=[\"age\", \"Experience\"], outputCol=\"Input Features\")"
   ]
  },
  {
   "cell_type": "code",
   "execution_count": 12,
   "id": "e08ad569",
   "metadata": {},
   "outputs": [],
   "source": [
    "output = featureAssembler.transform(training_data)"
   ]
  },
  {
   "cell_type": "code",
   "execution_count": 13,
   "id": "fa35b0a2",
   "metadata": {},
   "outputs": [
    {
     "name": "stdout",
     "output_type": "stream",
     "text": [
      "+---------+---+----------+------+--------------+\n",
      "|     Name|age|Experience|Salary|Input Features|\n",
      "+---------+---+----------+------+--------------+\n",
      "|    Krish| 31|        10| 30000|   [31.0,10.0]|\n",
      "|Sudhanshu| 30|         8| 25000|    [30.0,8.0]|\n",
      "|    Sunny| 29|         4| 20000|    [29.0,4.0]|\n",
      "|     Paul| 24|         3| 20000|    [24.0,3.0]|\n",
      "|   Harsha| 21|         1| 15000|    [21.0,1.0]|\n",
      "|  Shubham| 23|         2| 18000|    [23.0,2.0]|\n",
      "+---------+---+----------+------+--------------+\n",
      "\n"
     ]
    }
   ],
   "source": [
    "output.show()"
   ]
  },
  {
   "cell_type": "code",
   "execution_count": 14,
   "id": "76771dfe",
   "metadata": {},
   "outputs": [],
   "source": [
    "finalized_output = output.select('Input Features', 'Salary')"
   ]
  },
  {
   "cell_type": "code",
   "execution_count": 16,
   "id": "99dc6ee0",
   "metadata": {},
   "outputs": [
    {
     "name": "stdout",
     "output_type": "stream",
     "text": [
      "+--------------+------+\n",
      "|Input Features|Salary|\n",
      "+--------------+------+\n",
      "|   [31.0,10.0]| 30000|\n",
      "|    [30.0,8.0]| 25000|\n",
      "|    [29.0,4.0]| 20000|\n",
      "|    [24.0,3.0]| 20000|\n",
      "|    [21.0,1.0]| 15000|\n",
      "|    [23.0,2.0]| 18000|\n",
      "+--------------+------+\n",
      "\n"
     ]
    }
   ],
   "source": [
    "finalized_output.show()"
   ]
  },
  {
   "cell_type": "code",
   "execution_count": 17,
   "id": "56dc1900",
   "metadata": {},
   "outputs": [
    {
     "name": "stdout",
     "output_type": "stream",
     "text": [
      "23/04/16 08:16:38 WARN Instrumentation: [0c66a211] regParam is zero, which might cause numerical instability and overfitting.\n",
      "23/04/16 08:16:39 WARN InstanceBuilder$JavaBLAS: Failed to load implementation from:dev.ludovic.netlib.blas.VectorBLAS\n",
      "23/04/16 08:16:39 WARN InstanceBuilder$NativeBLAS: Failed to load implementation from:dev.ludovic.netlib.blas.JNIBLAS\n",
      "23/04/16 08:16:39 WARN InstanceBuilder$NativeBLAS: Failed to load implementation from:dev.ludovic.netlib.blas.ForeignLinkerBLAS\n",
      "23/04/16 08:16:39 WARN InstanceBuilder$NativeLAPACK: Failed to load implementation from:dev.ludovic.netlib.lapack.JNILAPACK\n"
     ]
    }
   ],
   "source": [
    "##Creating a test split\n",
    "from pyspark.ml.regression import LinearRegression\n",
    "train_data, test_data = finalized_output.randomSplit([0.75, 0.25])\n",
    "regressor = LinearRegression(featuresCol='Input Features', labelCol='Salary').fit(train_data)"
   ]
  },
  {
   "cell_type": "code",
   "execution_count": 18,
   "id": "19f8b374",
   "metadata": {},
   "outputs": [
    {
     "data": {
      "text/plain": [
       "DenseVector([109.3058, 1199.4092])"
      ]
     },
     "execution_count": 18,
     "metadata": {},
     "output_type": "execute_result"
    }
   ],
   "source": [
    "#Coefficients\n",
    "regressor.coefficients"
   ]
  },
  {
   "cell_type": "code",
   "execution_count": 19,
   "id": "1141994e",
   "metadata": {},
   "outputs": [
    {
     "data": {
      "text/plain": [
       "12187.592319054227"
      ]
     },
     "execution_count": 19,
     "metadata": {},
     "output_type": "execute_result"
    }
   ],
   "source": [
    "#Intercepts\n",
    "regressor.intercept"
   ]
  },
  {
   "cell_type": "code",
   "execution_count": 20,
   "id": "2fa8dac5",
   "metadata": {},
   "outputs": [],
   "source": [
    "#Prediction\n",
    "pred_results=regressor.evaluate(test_data)"
   ]
  },
  {
   "cell_type": "code",
   "execution_count": 22,
   "id": "8a5cb70d",
   "metadata": {},
   "outputs": [
    {
     "name": "stdout",
     "output_type": "stream",
     "text": [
      "+--------------+------+------------------+\n",
      "|Input Features|Salary|        prediction|\n",
      "+--------------+------+------------------+\n",
      "|    [24.0,3.0]| 20000| 18409.15805022155|\n",
      "|   [31.0,10.0]| 30000|27570.162481536143|\n",
      "+--------------+------+------------------+\n",
      "\n"
     ]
    }
   ],
   "source": [
    "pred_results.predictions.show()"
   ]
  },
  {
   "cell_type": "code",
   "execution_count": 24,
   "id": "43ff2b79",
   "metadata": {},
   "outputs": [
    {
     "data": {
      "text/plain": [
       "(2010.339734121153, 4217444.237654746)"
      ]
     },
     "execution_count": 24,
     "metadata": {},
     "output_type": "execute_result"
    }
   ],
   "source": [
    "pred_results.meanAbsoluteError, pred_results.meanSquaredError"
   ]
  },
  {
   "cell_type": "code",
   "execution_count": null,
   "id": "b65efab1",
   "metadata": {},
   "outputs": [],
   "source": []
  }
 ],
 "metadata": {
  "kernelspec": {
   "display_name": "Python 3 (ipykernel)",
   "language": "python",
   "name": "python3"
  },
  "language_info": {
   "codemirror_mode": {
    "name": "ipython",
    "version": 3
   },
   "file_extension": ".py",
   "mimetype": "text/x-python",
   "name": "python",
   "nbconvert_exporter": "python",
   "pygments_lexer": "ipython3",
   "version": "3.9.13"
  }
 },
 "nbformat": 4,
 "nbformat_minor": 5
}
