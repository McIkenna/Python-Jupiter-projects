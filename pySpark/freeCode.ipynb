{
 "cells": [
  {
   "cell_type": "code",
   "execution_count": 1,
   "id": "6ddbfdda",
   "metadata": {},
   "outputs": [],
   "source": [
    "import pyspark"
   ]
  },
  {
   "cell_type": "code",
   "execution_count": 2,
   "id": "93e2e1bc",
   "metadata": {},
   "outputs": [
    {
     "data": {
      "text/html": [
       "<div>\n",
       "<style scoped>\n",
       "    .dataframe tbody tr th:only-of-type {\n",
       "        vertical-align: middle;\n",
       "    }\n",
       "\n",
       "    .dataframe tbody tr th {\n",
       "        vertical-align: top;\n",
       "    }\n",
       "\n",
       "    .dataframe thead th {\n",
       "        text-align: right;\n",
       "    }\n",
       "</style>\n",
       "<table border=\"1\" class=\"dataframe\">\n",
       "  <thead>\n",
       "    <tr style=\"text-align: right;\">\n",
       "      <th></th>\n",
       "      <th>Project Name</th>\n",
       "      <th>Description</th>\n",
       "      <th>Planned Start Date</th>\n",
       "      <th>Due Date</th>\n",
       "      <th>Client</th>\n",
       "      <th>Project Status</th>\n",
       "      <th>Tasks Blocking</th>\n",
       "      <th>Tasks Blocked</th>\n",
       "      <th>Tags</th>\n",
       "    </tr>\n",
       "  </thead>\n",
       "  <tbody>\n",
       "    <tr>\n",
       "      <th>0</th>\n",
       "      <td>E-commerce</td>\n",
       "      <td>NaN</td>\n",
       "      <td>2021-03-14</td>\n",
       "      <td>2023-12-02</td>\n",
       "      <td>Personal</td>\n",
       "      <td>NaN</td>\n",
       "      <td>NaN</td>\n",
       "      <td>NaN</td>\n",
       "      <td>NaN</td>\n",
       "    </tr>\n",
       "    <tr>\n",
       "      <th>1</th>\n",
       "      <td>Forum Application</td>\n",
       "      <td>A blog post for public</td>\n",
       "      <td>2024-02-04</td>\n",
       "      <td>2013-06-13</td>\n",
       "      <td>Serious</td>\n",
       "      <td>NaN</td>\n",
       "      <td>NaN</td>\n",
       "      <td>NaN</td>\n",
       "      <td>NaN</td>\n",
       "    </tr>\n",
       "    <tr>\n",
       "      <th>2</th>\n",
       "      <td>Merike website</td>\n",
       "      <td>Create a company website</td>\n",
       "      <td>2023-03-23</td>\n",
       "      <td>1990-04-01</td>\n",
       "      <td>Merike</td>\n",
       "      <td>NaN</td>\n",
       "      <td>NaN</td>\n",
       "      <td>NaN</td>\n",
       "      <td>NaN</td>\n",
       "    </tr>\n",
       "    <tr>\n",
       "      <th>3</th>\n",
       "      <td>Amazon Seller central</td>\n",
       "      <td>Create amazon seller central account</td>\n",
       "      <td>2023-02-02</td>\n",
       "      <td>2023-04-02</td>\n",
       "      <td>Merike</td>\n",
       "      <td>NaN</td>\n",
       "      <td>NaN</td>\n",
       "      <td>NaN</td>\n",
       "      <td>NaN</td>\n",
       "    </tr>\n",
       "  </tbody>\n",
       "</table>\n",
       "</div>"
      ],
      "text/plain": [
       "            Project Name                           Description  \\\n",
       "0             E-commerce                                   NaN   \n",
       "1      Forum Application                A blog post for public   \n",
       "2         Merike website              Create a company website   \n",
       "3  Amazon Seller central  Create amazon seller central account   \n",
       "\n",
       "  Planned Start Date   Due Date    Client  Project Status  Tasks Blocking  \\\n",
       "0         2021-03-14 2023-12-02  Personal             NaN             NaN   \n",
       "1         2024-02-04 2013-06-13   Serious             NaN             NaN   \n",
       "2         2023-03-23 1990-04-01    Merike             NaN             NaN   \n",
       "3         2023-02-02 2023-04-02    Merike             NaN             NaN   \n",
       "\n",
       "   Tasks Blocked  Tags  \n",
       "0            NaN   NaN  \n",
       "1            NaN   NaN  \n",
       "2            NaN   NaN  \n",
       "3            NaN   NaN  "
      ]
     },
     "execution_count": 2,
     "metadata": {},
     "output_type": "execute_result"
    }
   ],
   "source": [
    "import pandas as pd\n",
    "pd.read_excel('projects list.xlsx')"
   ]
  },
  {
   "cell_type": "code",
   "execution_count": 3,
   "id": "63b551aa",
   "metadata": {},
   "outputs": [],
   "source": [
    "from pyspark.sql import SparkSession"
   ]
  },
  {
   "cell_type": "code",
   "execution_count": 4,
   "id": "d0262937",
   "metadata": {},
   "outputs": [
    {
     "name": "stderr",
     "output_type": "stream",
     "text": [
      "Setting default log level to \"WARN\".\n",
      "To adjust logging level use sc.setLogLevel(newLevel). For SparkR, use setLogLevel(newLevel).\n"
     ]
    },
    {
     "name": "stdout",
     "output_type": "stream",
     "text": [
      "23/04/16 04:11:17 WARN NativeCodeLoader: Unable to load native-hadoop library for your platform... using builtin-java classes where applicable\n"
     ]
    }
   ],
   "source": [
    "spark = SparkSession.builder.appName('Dataframe').getOrCreate()"
   ]
  },
  {
   "cell_type": "code",
   "execution_count": 5,
   "id": "360763ed",
   "metadata": {},
   "outputs": [
    {
     "data": {
      "text/html": [
       "\n",
       "            <div>\n",
       "                <p><b>SparkSession - in-memory</b></p>\n",
       "                \n",
       "        <div>\n",
       "            <p><b>SparkContext</b></p>\n",
       "\n",
       "            <p><a href=\"http://news-air.lan:4040\">Spark UI</a></p>\n",
       "\n",
       "            <dl>\n",
       "              <dt>Version</dt>\n",
       "                <dd><code>v3.3.2</code></dd>\n",
       "              <dt>Master</dt>\n",
       "                <dd><code>local[*]</code></dd>\n",
       "              <dt>AppName</dt>\n",
       "                <dd><code>Dataframe</code></dd>\n",
       "            </dl>\n",
       "        </div>\n",
       "        \n",
       "            </div>\n",
       "        "
      ],
      "text/plain": [
       "<pyspark.sql.session.SparkSession at 0x7f78fa89dd90>"
      ]
     },
     "execution_count": 5,
     "metadata": {},
     "output_type": "execute_result"
    }
   ],
   "source": [
    "spark"
   ]
  },
  {
   "cell_type": "code",
   "execution_count": 12,
   "id": "e3a6d4ad",
   "metadata": {},
   "outputs": [],
   "source": [
    "##Reading a data frame\n",
    "df_pyspark = spark.read.csv('Product Backlog.csv', header=True, inferSchema=True)"
   ]
  },
  {
   "cell_type": "code",
   "execution_count": 13,
   "id": "a28aa32c",
   "metadata": {},
   "outputs": [
    {
     "name": "stdout",
     "output_type": "stream",
     "text": [
      "+-------+-------+--------------------+------+---------------+---------------+\n",
      "|Feature|  Scope|             Stroies|Sprint|Sprint End Date|Comment/Remarks|\n",
      "+-------+-------+--------------------+------+---------------+---------------+\n",
      "|      1|Service|Create products' ...|     1|     03/18/2023|           null|\n",
      "|      2|Service|Add a product cat...|     1|     03/18/2023|           null|\n",
      "|      3|Service|     Update product |     1|     03/18/2023|           null|\n",
      "|      4|Service|     Update category|     1|     03/18/2023|           null|\n",
      "|      5|Service|Search for a product|     1|     03/18/2023|           null|\n",
      "|      6|Service|Seller/buyer crea...|     2|     03/25/2023|           null|\n",
      "|   null|Service|Manage seller/buy...|  null|     03/25/2023|           null|\n",
      "|      8|Service|Buyer add product...|     3|     04/01/2023|           null|\n",
      "|      9|Service|Buyer update shop...|     3|     04/01/2023|           null|\n",
      "|     10|Service|Buyer Checkout sh...|     3|     04/08/2023|           null|\n",
      "|   null|Service|  Buyer make payment|  null|     04/08/2023|           null|\n",
      "|     12|Service| Check order history|     4|     04/15/2023|           null|\n",
      "+-------+-------+--------------------+------+---------------+---------------+\n",
      "\n"
     ]
    }
   ],
   "source": [
    "df_pyspark.show()"
   ]
  },
  {
   "cell_type": "code",
   "execution_count": 14,
   "id": "7526692f",
   "metadata": {},
   "outputs": [
    {
     "name": "stdout",
     "output_type": "stream",
     "text": [
      "root\n",
      " |-- Feature: integer (nullable = true)\n",
      " |-- Scope: string (nullable = true)\n",
      " |-- Stroies: string (nullable = true)\n",
      " |-- Sprint: integer (nullable = true)\n",
      " |-- Sprint End Date: string (nullable = true)\n",
      " |-- Comment/Remarks: string (nullable = true)\n",
      "\n"
     ]
    }
   ],
   "source": [
    "df_pyspark.printSchema()"
   ]
  },
  {
   "cell_type": "code",
   "execution_count": 15,
   "id": "2652fcbe",
   "metadata": {},
   "outputs": [
    {
     "data": {
      "text/plain": [
       "pyspark.sql.dataframe.DataFrame"
      ]
     },
     "execution_count": 15,
     "metadata": {},
     "output_type": "execute_result"
    }
   ],
   "source": [
    "type(df_pyspark)"
   ]
  },
  {
   "cell_type": "code",
   "execution_count": 16,
   "id": "4e5fbd82",
   "metadata": {},
   "outputs": [
    {
     "data": {
      "text/plain": [
       "[Row(Feature=1, Scope='Service', Stroies=\"Create products' category\", Sprint=1, Sprint End Date='03/18/2023', Comment/Remarks=None),\n",
       " Row(Feature=2, Scope='Service', Stroies='Add a product category', Sprint=1, Sprint End Date='03/18/2023', Comment/Remarks=None),\n",
       " Row(Feature=3, Scope='Service', Stroies='Update product ', Sprint=1, Sprint End Date='03/18/2023', Comment/Remarks=None)]"
      ]
     },
     "execution_count": 16,
     "metadata": {},
     "output_type": "execute_result"
    }
   ],
   "source": [
    "df_pyspark.head(3)"
   ]
  },
  {
   "cell_type": "code",
   "execution_count": 17,
   "id": "a204104a",
   "metadata": {},
   "outputs": [
    {
     "name": "stdout",
     "output_type": "stream",
     "text": [
      "+-------+--------------------+\n",
      "|Feature|             Stroies|\n",
      "+-------+--------------------+\n",
      "|      1|Create products' ...|\n",
      "|      2|Add a product cat...|\n",
      "|      3|     Update product |\n",
      "|      4|     Update category|\n",
      "|      5|Search for a product|\n",
      "|      6|Seller/buyer crea...|\n",
      "|   null|Manage seller/buy...|\n",
      "|      8|Buyer add product...|\n",
      "|      9|Buyer update shop...|\n",
      "|     10|Buyer Checkout sh...|\n",
      "|   null|  Buyer make payment|\n",
      "|     12| Check order history|\n",
      "+-------+--------------------+\n",
      "\n"
     ]
    }
   ],
   "source": [
    "df_pyspark.select(['Feature', 'Stroies']).show()"
   ]
  },
  {
   "cell_type": "code",
   "execution_count": 18,
   "id": "289a135d",
   "metadata": {},
   "outputs": [
    {
     "data": {
      "text/plain": [
       "[('Feature', 'int'),\n",
       " ('Scope', 'string'),\n",
       " ('Stroies', 'string'),\n",
       " ('Sprint', 'int'),\n",
       " ('Sprint End Date', 'string'),\n",
       " ('Comment/Remarks', 'string')]"
      ]
     },
     "execution_count": 18,
     "metadata": {},
     "output_type": "execute_result"
    }
   ],
   "source": [
    "df_pyspark.dtypes"
   ]
  },
  {
   "cell_type": "code",
   "execution_count": 19,
   "id": "d8ffd108",
   "metadata": {},
   "outputs": [
    {
     "name": "stdout",
     "output_type": "stream",
     "text": [
      "+-------+------------------+-------+--------------------+------------------+---------------+---------------+\n",
      "|summary|           Feature|  Scope|             Stroies|            Sprint|Sprint End Date|Comment/Remarks|\n",
      "+-------+------------------+-------+--------------------+------------------+---------------+---------------+\n",
      "|  count|                10|     12|                  12|                10|             12|              0|\n",
      "|   mean|               6.0|   null|                null|               2.0|           null|           null|\n",
      "| stddev|3.6514837167011076|   null|                null|1.1547005383792515|           null|           null|\n",
      "|    min|                 1|Service|Add a product cat...|                 1|     03/18/2023|           null|\n",
      "|    max|                12|Service|     Update product |                 4|     04/15/2023|           null|\n",
      "+-------+------------------+-------+--------------------+------------------+---------------+---------------+\n",
      "\n"
     ]
    }
   ],
   "source": [
    "df_pyspark.describe().show()"
   ]
  },
  {
   "cell_type": "code",
   "execution_count": 20,
   "id": "903844e1",
   "metadata": {},
   "outputs": [],
   "source": [
    "## Adding Column or removing\n",
    "\n",
    "df_pyspark = df_pyspark.withColumn('Stories', df_pyspark['Stroies'])"
   ]
  },
  {
   "cell_type": "code",
   "execution_count": 21,
   "id": "53a721bc",
   "metadata": {},
   "outputs": [
    {
     "name": "stdout",
     "output_type": "stream",
     "text": [
      "+-------+-------+--------------------+------+---------------+---------------+--------------------+\n",
      "|Feature|  Scope|             Stroies|Sprint|Sprint End Date|Comment/Remarks|             Stories|\n",
      "+-------+-------+--------------------+------+---------------+---------------+--------------------+\n",
      "|      1|Service|Create products' ...|     1|     03/18/2023|           null|Create products' ...|\n",
      "|      2|Service|Add a product cat...|     1|     03/18/2023|           null|Add a product cat...|\n",
      "|      3|Service|     Update product |     1|     03/18/2023|           null|     Update product |\n",
      "|      4|Service|     Update category|     1|     03/18/2023|           null|     Update category|\n",
      "|      5|Service|Search for a product|     1|     03/18/2023|           null|Search for a product|\n",
      "|      6|Service|Seller/buyer crea...|     2|     03/25/2023|           null|Seller/buyer crea...|\n",
      "|   null|Service|Manage seller/buy...|  null|     03/25/2023|           null|Manage seller/buy...|\n",
      "|      8|Service|Buyer add product...|     3|     04/01/2023|           null|Buyer add product...|\n",
      "|      9|Service|Buyer update shop...|     3|     04/01/2023|           null|Buyer update shop...|\n",
      "|     10|Service|Buyer Checkout sh...|     3|     04/08/2023|           null|Buyer Checkout sh...|\n",
      "|   null|Service|  Buyer make payment|  null|     04/08/2023|           null|  Buyer make payment|\n",
      "|     12|Service| Check order history|     4|     04/15/2023|           null| Check order history|\n",
      "+-------+-------+--------------------+------+---------------+---------------+--------------------+\n",
      "\n"
     ]
    }
   ],
   "source": [
    "df_pyspark.show()"
   ]
  },
  {
   "cell_type": "code",
   "execution_count": 22,
   "id": "d42df16e",
   "metadata": {},
   "outputs": [],
   "source": [
    "##Drop column\n",
    "df_pyspark=df_pyspark.drop('Stroies')"
   ]
  },
  {
   "cell_type": "code",
   "execution_count": 23,
   "id": "3d1f5b7e",
   "metadata": {},
   "outputs": [
    {
     "name": "stdout",
     "output_type": "stream",
     "text": [
      "+-------+-------+------+---------------+---------------+--------------------+\n",
      "|Feature|  Scope|Sprint|Sprint End Date|Comment/Remarks|             Stories|\n",
      "+-------+-------+------+---------------+---------------+--------------------+\n",
      "|      1|Service|     1|     03/18/2023|           null|Create products' ...|\n",
      "|      2|Service|     1|     03/18/2023|           null|Add a product cat...|\n",
      "|      3|Service|     1|     03/18/2023|           null|     Update product |\n",
      "|      4|Service|     1|     03/18/2023|           null|     Update category|\n",
      "|      5|Service|     1|     03/18/2023|           null|Search for a product|\n",
      "|      6|Service|     2|     03/25/2023|           null|Seller/buyer crea...|\n",
      "|   null|Service|  null|     03/25/2023|           null|Manage seller/buy...|\n",
      "|      8|Service|     3|     04/01/2023|           null|Buyer add product...|\n",
      "|      9|Service|     3|     04/01/2023|           null|Buyer update shop...|\n",
      "|     10|Service|     3|     04/08/2023|           null|Buyer Checkout sh...|\n",
      "|   null|Service|  null|     04/08/2023|           null|  Buyer make payment|\n",
      "|     12|Service|     4|     04/15/2023|           null| Check order history|\n",
      "+-------+-------+------+---------------+---------------+--------------------+\n",
      "\n"
     ]
    }
   ],
   "source": [
    "df_pyspark.show();"
   ]
  },
  {
   "cell_type": "code",
   "execution_count": 24,
   "id": "64e6e8b8",
   "metadata": {},
   "outputs": [],
   "source": [
    "##Renaming Columns\n",
    "df_pyspark = df_pyspark.withColumnRenamed('Feature', 'Features')"
   ]
  },
  {
   "cell_type": "code",
   "execution_count": 25,
   "id": "ce0ca595",
   "metadata": {},
   "outputs": [
    {
     "name": "stdout",
     "output_type": "stream",
     "text": [
      "+--------+-------+------+---------------+---------------+--------------------+\n",
      "|Features|  Scope|Sprint|Sprint End Date|Comment/Remarks|             Stories|\n",
      "+--------+-------+------+---------------+---------------+--------------------+\n",
      "|       1|Service|     1|     03/18/2023|           null|Create products' ...|\n",
      "|       2|Service|     1|     03/18/2023|           null|Add a product cat...|\n",
      "|       3|Service|     1|     03/18/2023|           null|     Update product |\n",
      "|       4|Service|     1|     03/18/2023|           null|     Update category|\n",
      "|       5|Service|     1|     03/18/2023|           null|Search for a product|\n",
      "|       6|Service|     2|     03/25/2023|           null|Seller/buyer crea...|\n",
      "|    null|Service|  null|     03/25/2023|           null|Manage seller/buy...|\n",
      "|       8|Service|     3|     04/01/2023|           null|Buyer add product...|\n",
      "|       9|Service|     3|     04/01/2023|           null|Buyer update shop...|\n",
      "|      10|Service|     3|     04/08/2023|           null|Buyer Checkout sh...|\n",
      "|    null|Service|  null|     04/08/2023|           null|  Buyer make payment|\n",
      "|      12|Service|     4|     04/15/2023|           null| Check order history|\n",
      "+--------+-------+------+---------------+---------------+--------------------+\n",
      "\n"
     ]
    }
   ],
   "source": [
    "df_pyspark.show()"
   ]
  },
  {
   "cell_type": "code",
   "execution_count": 26,
   "id": "3ce7cc59",
   "metadata": {},
   "outputs": [],
   "source": [
    "### Maipulating values"
   ]
  },
  {
   "cell_type": "code",
   "execution_count": 27,
   "id": "d70fae82",
   "metadata": {},
   "outputs": [
    {
     "name": "stdout",
     "output_type": "stream",
     "text": [
      "+--------+-----+------+---------------+---------------+-------+\n",
      "|Features|Scope|Sprint|Sprint End Date|Comment/Remarks|Stories|\n",
      "+--------+-----+------+---------------+---------------+-------+\n",
      "+--------+-----+------+---------------+---------------+-------+\n",
      "\n",
      "+--------+-------+------+---------------+---------------+--------------------+\n",
      "|Features|  Scope|Sprint|Sprint End Date|Comment/Remarks|             Stories|\n",
      "+--------+-------+------+---------------+---------------+--------------------+\n",
      "|       1|Service|     1|     03/18/2023|           null|Create products' ...|\n",
      "|       2|Service|     1|     03/18/2023|           null|Add a product cat...|\n",
      "|       3|Service|     1|     03/18/2023|           null|     Update product |\n",
      "|       4|Service|     1|     03/18/2023|           null|     Update category|\n",
      "|       5|Service|     1|     03/18/2023|           null|Search for a product|\n",
      "|       6|Service|     2|     03/25/2023|           null|Seller/buyer crea...|\n",
      "|    null|Service|  null|     03/25/2023|           null|Manage seller/buy...|\n",
      "|       8|Service|     3|     04/01/2023|           null|Buyer add product...|\n",
      "|       9|Service|     3|     04/01/2023|           null|Buyer update shop...|\n",
      "|      10|Service|     3|     04/08/2023|           null|Buyer Checkout sh...|\n",
      "|    null|Service|  null|     04/08/2023|           null|  Buyer make payment|\n",
      "|      12|Service|     4|     04/15/2023|           null| Check order history|\n",
      "+--------+-------+------+---------------+---------------+--------------------+\n",
      "\n",
      "+--------+-------+------+---------------+---------------+--------------------+\n",
      "|Features|  Scope|Sprint|Sprint End Date|Comment/Remarks|             Stories|\n",
      "+--------+-------+------+---------------+---------------+--------------------+\n",
      "|       1|Service|     1|     03/18/2023|           null|Create products' ...|\n",
      "|       2|Service|     1|     03/18/2023|           null|Add a product cat...|\n",
      "|       3|Service|     1|     03/18/2023|           null|     Update product |\n",
      "|       4|Service|     1|     03/18/2023|           null|     Update category|\n",
      "|       5|Service|     1|     03/18/2023|           null|Search for a product|\n",
      "|       6|Service|     2|     03/25/2023|           null|Seller/buyer crea...|\n",
      "|    null|Service|  null|     03/25/2023|           null|Manage seller/buy...|\n",
      "|       8|Service|     3|     04/01/2023|           null|Buyer add product...|\n",
      "|       9|Service|     3|     04/01/2023|           null|Buyer update shop...|\n",
      "|      10|Service|     3|     04/08/2023|           null|Buyer Checkout sh...|\n",
      "|    null|Service|  null|     04/08/2023|           null|  Buyer make payment|\n",
      "|      12|Service|     4|     04/15/2023|           null| Check order history|\n",
      "+--------+-------+------+---------------+---------------+--------------------+\n",
      "\n",
      "+--------+-----+------+---------------+---------------+-------+\n",
      "|Features|Scope|Sprint|Sprint End Date|Comment/Remarks|Stories|\n",
      "+--------+-----+------+---------------+---------------+-------+\n",
      "+--------+-----+------+---------------+---------------+-------+\n",
      "\n"
     ]
    }
   ],
   "source": [
    "##dropping column with null\n",
    "df_pyspark.na.drop(how=\"any\").show()\n",
    "df_pyspark.na.drop(how=\"all\").show()\n",
    "df_pyspark.na.drop(how=\"any\", thresh=3).show()\n",
    "df_pyspark.na.drop(how=\"any\", subset=['Comment/Remarks']).show()"
   ]
  },
  {
   "cell_type": "code",
   "execution_count": 29,
   "id": "679d5901",
   "metadata": {},
   "outputs": [
    {
     "name": "stdout",
     "output_type": "stream",
     "text": [
      "+--------+-------+------+---------------+---------------+--------------------+\n",
      "|Features|  Scope|Sprint|Sprint End Date|Comment/Remarks|             Stories|\n",
      "+--------+-------+------+---------------+---------------+--------------------+\n",
      "|       1|Service|     1|     03/18/2023|        Missing|Create products' ...|\n",
      "|       2|Service|     1|     03/18/2023|        Missing|Add a product cat...|\n",
      "|       3|Service|     1|     03/18/2023|        Missing|     Update product |\n",
      "|       4|Service|     1|     03/18/2023|        Missing|     Update category|\n",
      "|       5|Service|     1|     03/18/2023|        Missing|Search for a product|\n",
      "|       6|Service|     2|     03/25/2023|        Missing|Seller/buyer crea...|\n",
      "|    null|Service|  null|     03/25/2023|        Missing|Manage seller/buy...|\n",
      "|       8|Service|     3|     04/01/2023|        Missing|Buyer add product...|\n",
      "|       9|Service|     3|     04/01/2023|        Missing|Buyer update shop...|\n",
      "|      10|Service|     3|     04/08/2023|        Missing|Buyer Checkout sh...|\n",
      "|    null|Service|  null|     04/08/2023|        Missing|  Buyer make payment|\n",
      "|      12|Service|     4|     04/15/2023|        Missing| Check order history|\n",
      "+--------+-------+------+---------------+---------------+--------------------+\n",
      "\n",
      "+--------+-------+------+---------------+---------------+--------------------+\n",
      "|Features|  Scope|Sprint|Sprint End Date|Comment/Remarks|             Stories|\n",
      "+--------+-------+------+---------------+---------------+--------------------+\n",
      "|       1|Service|     1|     03/18/2023|           null|Create products' ...|\n",
      "|       2|Service|     1|     03/18/2023|           null|Add a product cat...|\n",
      "|       3|Service|     1|     03/18/2023|           null|     Update product |\n",
      "|       4|Service|     1|     03/18/2023|           null|     Update category|\n",
      "|       5|Service|     1|     03/18/2023|           null|Search for a product|\n",
      "|       6|Service|     2|     03/25/2023|           null|Seller/buyer crea...|\n",
      "|    null|Service|  null|     03/25/2023|           null|Manage seller/buy...|\n",
      "|       8|Service|     3|     04/01/2023|           null|Buyer add product...|\n",
      "|       9|Service|     3|     04/01/2023|           null|Buyer update shop...|\n",
      "|      10|Service|     3|     04/08/2023|           null|Buyer Checkout sh...|\n",
      "|    null|Service|  null|     04/08/2023|           null|  Buyer make payment|\n",
      "|      12|Service|     4|     04/15/2023|           null| Check order history|\n",
      "+--------+-------+------+---------------+---------------+--------------------+\n",
      "\n"
     ]
    }
   ],
   "source": [
    "##Filling the missing value\n",
    "df_pyspark.na.fill(\"Missing\").show()\n",
    "df_pyspark.na.fill(\"Missing\", [\"Stories\", \"Features\"]).show()"
   ]
  },
  {
   "cell_type": "code",
   "execution_count": 30,
   "id": "a7cc0afb",
   "metadata": {},
   "outputs": [],
   "source": [
    "from pyspark.ml.feature import Imputer\n",
    "imputer = Imputer(\n",
    "            inputCols=['Sprint', 'Features'],\n",
    "            outputCols=[\"{}_imputed\".format(c) for c in ['Sprint', 'Features']]).setStrategy(\"mean\")"
   ]
  },
  {
   "cell_type": "code",
   "execution_count": 31,
   "id": "62b58d76",
   "metadata": {},
   "outputs": [
    {
     "name": "stdout",
     "output_type": "stream",
     "text": [
      "+--------+-------+------+---------------+---------------+--------------------+--------------+----------------+\n",
      "|Features|  Scope|Sprint|Sprint End Date|Comment/Remarks|             Stories|Sprint_imputed|Features_imputed|\n",
      "+--------+-------+------+---------------+---------------+--------------------+--------------+----------------+\n",
      "|       1|Service|     1|     03/18/2023|           null|Create products' ...|             1|               1|\n",
      "|       2|Service|     1|     03/18/2023|           null|Add a product cat...|             1|               2|\n",
      "|       3|Service|     1|     03/18/2023|           null|     Update product |             1|               3|\n",
      "|       4|Service|     1|     03/18/2023|           null|     Update category|             1|               4|\n",
      "|       5|Service|     1|     03/18/2023|           null|Search for a product|             1|               5|\n",
      "|       6|Service|     2|     03/25/2023|           null|Seller/buyer crea...|             2|               6|\n",
      "|    null|Service|  null|     03/25/2023|           null|Manage seller/buy...|             2|               6|\n",
      "|       8|Service|     3|     04/01/2023|           null|Buyer add product...|             3|               8|\n",
      "|       9|Service|     3|     04/01/2023|           null|Buyer update shop...|             3|               9|\n",
      "|      10|Service|     3|     04/08/2023|           null|Buyer Checkout sh...|             3|              10|\n",
      "|    null|Service|  null|     04/08/2023|           null|  Buyer make payment|             2|               6|\n",
      "|      12|Service|     4|     04/15/2023|           null| Check order history|             4|              12|\n",
      "+--------+-------+------+---------------+---------------+--------------------+--------------+----------------+\n",
      "\n"
     ]
    }
   ],
   "source": [
    "# Add imputation cols to df (replaces null value to with mean)\n",
    "imputer.fit(df_pyspark).transform(df_pyspark).show()"
   ]
  },
  {
   "cell_type": "code",
   "execution_count": 32,
   "id": "2a3eb2c4",
   "metadata": {},
   "outputs": [
    {
     "name": "stdout",
     "output_type": "stream",
     "text": [
      "+--------+-------+------+---------------+---------------+--------------------+\n",
      "|Features|  Scope|Sprint|Sprint End Date|Comment/Remarks|             Stories|\n",
      "+--------+-------+------+---------------+---------------+--------------------+\n",
      "|       1|Service|     1|     03/18/2023|           null|Create products' ...|\n",
      "|       2|Service|     1|     03/18/2023|           null|Add a product cat...|\n",
      "|       3|Service|     1|     03/18/2023|           null|     Update product |\n",
      "|       4|Service|     1|     03/18/2023|           null|     Update category|\n",
      "|       5|Service|     1|     03/18/2023|           null|Search for a product|\n",
      "|       6|Service|     2|     03/25/2023|           null|Seller/buyer crea...|\n",
      "|    null|Service|  null|     03/25/2023|           null|Manage seller/buy...|\n",
      "|       8|Service|     3|     04/01/2023|           null|Buyer add product...|\n",
      "|       9|Service|     3|     04/01/2023|           null|Buyer update shop...|\n",
      "|      10|Service|     3|     04/08/2023|           null|Buyer Checkout sh...|\n",
      "|    null|Service|  null|     04/08/2023|           null|  Buyer make payment|\n",
      "|      12|Service|     4|     04/15/2023|           null| Check order history|\n",
      "+--------+-------+------+---------------+---------------+--------------------+\n",
      "\n"
     ]
    }
   ],
   "source": [
    "##Filter Operations\n",
    "df_pyspark.show()"
   ]
  },
  {
   "cell_type": "code",
   "execution_count": 33,
   "id": "6dff9da9",
   "metadata": {},
   "outputs": [
    {
     "name": "stdout",
     "output_type": "stream",
     "text": [
      "+--------+--------------------+\n",
      "|Features|             Stories|\n",
      "+--------+--------------------+\n",
      "|       1|Create products' ...|\n",
      "|       2|Add a product cat...|\n",
      "|       3|     Update product |\n",
      "|       4|     Update category|\n",
      "|       5|Search for a product|\n",
      "|       6|Seller/buyer crea...|\n",
      "|       8|Buyer add product...|\n",
      "|       9|Buyer update shop...|\n",
      "|      10|Buyer Checkout sh...|\n",
      "+--------+--------------------+\n",
      "\n",
      "+--------+--------------------+\n",
      "|Features|             Stories|\n",
      "+--------+--------------------+\n",
      "|       3|     Update product |\n",
      "|       4|     Update category|\n",
      "|       5|Search for a product|\n",
      "+--------+--------------------+\n",
      "\n",
      "+--------+-------+------+---------------+---------------+--------------------+\n",
      "|Features|  Scope|Sprint|Sprint End Date|Comment/Remarks|             Stories|\n",
      "+--------+-------+------+---------------+---------------+--------------------+\n",
      "|       1|Service|     1|     03/18/2023|           null|Create products' ...|\n",
      "|       2|Service|     1|     03/18/2023|           null|Add a product cat...|\n",
      "|       3|Service|     1|     03/18/2023|           null|     Update product |\n",
      "|       4|Service|     1|     03/18/2023|           null|     Update category|\n",
      "|       5|Service|     1|     03/18/2023|           null|Search for a product|\n",
      "|       8|Service|     3|     04/01/2023|           null|Buyer add product...|\n",
      "|       9|Service|     3|     04/01/2023|           null|Buyer update shop...|\n",
      "|      10|Service|     3|     04/08/2023|           null|Buyer Checkout sh...|\n",
      "|      12|Service|     4|     04/15/2023|           null| Check order history|\n",
      "+--------+-------+------+---------------+---------------+--------------------+\n",
      "\n"
     ]
    }
   ],
   "source": [
    "## find sprint less than or equal to 3\n",
    "df_pyspark.filter(\"Sprint <= 3\").select([\"Features\", 'Stories']).show()\n",
    "df_pyspark.filter((df_pyspark[\"Sprint\"]  <= 1) & (df_pyspark['Features'] >= 3)).select([\"Features\", 'Stories']).show()\n",
    "df_pyspark.filter(~(df_pyspark[\"Sprint\"]  == 2)).show()"
   ]
  },
  {
   "cell_type": "code",
   "execution_count": null,
   "id": "c3c35fbf",
   "metadata": {},
   "outputs": [],
   "source": []
  }
 ],
 "metadata": {
  "kernelspec": {
   "display_name": "Python 3 (ipykernel)",
   "language": "python",
   "name": "python3"
  },
  "language_info": {
   "codemirror_mode": {
    "name": "ipython",
    "version": 3
   },
   "file_extension": ".py",
   "mimetype": "text/x-python",
   "name": "python",
   "nbconvert_exporter": "python",
   "pygments_lexer": "ipython3",
   "version": "3.9.13"
  }
 },
 "nbformat": 4,
 "nbformat_minor": 5
}
